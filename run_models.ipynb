{
  "cells": [
    {
      "cell_type": "code",
      "execution_count": 1,
      "metadata": {
        "colab": {
          "base_uri": "https://localhost:8080/"
        },
        "id": "EWjjK0INA0vt",
        "outputId": "3f2a6169-06be-407e-e0f8-b7a024b4652d"
      },
      "outputs": [
        {
          "name": "stdout",
          "output_type": "stream",
          "text": [
            "Cloning into 'vision'...\n",
            "remote: Enumerating objects: 458331, done.\u001b[K\n",
            "remote: Counting objects: 100% (38790/38790), done.\u001b[K\n",
            "remote: Compressing objects: 100% (1796/1796), done.\u001b[K\n",
            "remote: Total 458331 (delta 36985), reused 38687 (delta 36936), pack-reused 419541\u001b[K\n",
            "Receiving objects: 100% (458331/458331), 900.00 MiB | 25.57 MiB/s, done.\n",
            "Resolving deltas: 100% (426073/426073), done.\n",
            "fatal: not a git repository (or any of the parent directories): .git\n"
          ]
        }
      ],
      "source": [
        "!pip install pycocotools --quiet\n",
        "!git clone https://github.com/pytorch/vision.git\n",
        "!git checkout v0.3.0\n",
        "\n",
        "!cp vision/references/detection/utils.py ./\n",
        "!cp vision/references/detection/transforms.py ./\n",
        "!cp vision/references/detection/coco_eval.py ./\n",
        "!cp vision/references/detection/engine.py ./\n",
        "!cp vision/references/detection/coco_utils.py ./"
      ]
    },
    {
      "cell_type": "code",
      "execution_count": 2,
      "metadata": {
        "id": "xAbjZI07cw05"
      },
      "outputs": [],
      "source": [
        "import zipfile\n",
        "import torch\n",
        "import torch.nn as nn\n",
        "import os\n",
        "import cv2 as cv\n",
        "import torch.optim as optim\n",
        "from torchvision import transforms\n",
        "import numpy as np\n",
        "import torch.nn.functional as F\n",
        "import timeit\n",
        "import pickle\n",
        "import matplotlib.pyplot as plt\n",
        "import torchvision.models as models\n",
        "# from google.colab.patches import cv2_imshow\n",
        "\n",
        "import random\n",
        "import pandas as pd\n",
        "import warnings\n",
        "warnings.filterwarnings('ignore')\n",
        "from xml.etree import ElementTree as et\n",
        "import matplotlib.pyplot as plt\n",
        "import matplotlib.patches as patches\n",
        "import torch\n",
        "import torchvision\n",
        "from torchvision import transforms as torchtrans\n",
        "from torchvision.models.detection.faster_rcnn import FastRCNNPredictor\n",
        "import sys\n",
        "\n",
        "# these are the helper libraries imported.\n",
        "from engine import train_one_epoch, evaluate\n",
        "import utils\n",
        "import transforms as T\n",
        "\n",
        "# for image augmentations\n",
        "import albumentations as A\n",
        "from albumentations.pytorch.transforms import ToTensorV2"
      ]
    },
    {
      "cell_type": "code",
      "execution_count": null,
      "metadata": {
        "id": "IpjIJZkqdIsh"
      },
      "outputs": [],
      "source": [
        "path_to_images = \"/validare\" # calea catre imaginile de test\n",
        "solution_path_root = \"/\" # aici se vor crea fisierele de output\n",
        "\n",
        "path_to_model = \"/model_alexnet_task1.pth\"\n",
        "\n",
        "path_to_model_barney = \"/model_barney_alexnet.pth\"\n",
        "path_to_model_betty = \"/model_betty_alexnet.pth\"\n",
        "path_to_model_fred = \"/model_fred_alexnet.pth\"\n",
        "\n",
        "path_to_model_wilma = \"/model_wilma_alexnet.pth\"\n",
        "path_to_model_unknown = \"/model_unknown_alexnet.pth\"\n",
        "path_to_model_bonus = \"/model_bonus_epoch_4.pth\"\n",
        "\n",
        "## Fisiere pt evaluare\n",
        "dir_save_files = \"/save_files\" # aici se salveaza imaginile de output\n",
        "\n",
        "ground_truth_path_root = \"/validare/\"\n",
        "path_annotations = \"/validare/task1_gt_validare.txt\"\n"
      ]
    },
    {
      "cell_type": "code",
      "execution_count": null,
      "metadata": {
        "id": "tFWeL6mqeF1q"
      },
      "outputs": [],
      "source": [
        "class_names = [\"barney\", \"betty\", \"fred\", \"wilma\", \"unknown\"]\n",
        "dim_window = 64\n",
        "device = torch.device('cuda' if torch.cuda.is_available() else 'cpu')"
      ]
    },
    {
      "cell_type": "code",
      "execution_count": null,
      "metadata": {
        "cellView": "form",
        "id": "edXd0NW6dy2a"
      },
      "outputs": [],
      "source": [
        "#@title Crearea folderelor de output\n",
        "os.makedirs(dir_save_files, exist_ok=True)\n",
        "\n",
        "task1_path = os.path.join(solution_path_root, 'task1')\n",
        "os.makedirs(task1_path, exist_ok=True)\n",
        "\n",
        "# Creează directorul pentru Task 2\n",
        "task2_path = os.path.join(solution_path_root, 'task2')\n",
        "os.makedirs(task2_path, exist_ok=True)\n",
        "\n",
        "# Creează directorul pentru Bonus\n",
        "bonus_path = os.path.join(solution_path_root, 'bonus')\n",
        "os.makedirs(bonus_path, exist_ok=True)\n",
        "\n",
        "# Creează directorul pentru Task 1 în Bonus\n",
        "bonus_task1_path = os.path.join(bonus_path, 'task1')\n",
        "os.makedirs(bonus_task1_path, exist_ok=True)\n",
        "\n",
        "# Creează directorul pentru Task 2 în Bonus\n",
        "bonus_task2_path = os.path.join(bonus_path, 'task2')\n",
        "os.makedirs(bonus_task2_path, exist_ok=True)\n"
      ]
    },
    {
      "cell_type": "code",
      "execution_count": null,
      "metadata": {
        "cellView": "form",
        "colab": {
          "base_uri": "https://localhost:8080/"
        },
        "id": "rXASJehrdksG",
        "outputId": "2b86aec3-f0ba-45c9-833d-92e92f7185c1"
      },
      "outputs": [
        {
          "data": {
            "text/plain": [
              "AlexNet(\n",
              "  (features): Sequential(\n",
              "    (0): Conv2d(3, 64, kernel_size=(11, 11), stride=(4, 4), padding=(2, 2))\n",
              "    (1): ReLU(inplace=True)\n",
              "    (2): MaxPool2d(kernel_size=3, stride=2, padding=0, dilation=1, ceil_mode=False)\n",
              "    (3): Conv2d(64, 192, kernel_size=(5, 5), stride=(1, 1), padding=(2, 2))\n",
              "    (4): ReLU(inplace=True)\n",
              "    (5): MaxPool2d(kernel_size=3, stride=2, padding=0, dilation=1, ceil_mode=False)\n",
              "    (6): Conv2d(192, 384, kernel_size=(3, 3), stride=(1, 1), padding=(1, 1))\n",
              "    (7): ReLU(inplace=True)\n",
              "    (8): Conv2d(384, 256, kernel_size=(3, 3), stride=(1, 1), padding=(1, 1))\n",
              "    (9): ReLU(inplace=True)\n",
              "    (10): Conv2d(256, 256, kernel_size=(3, 3), stride=(1, 1), padding=(1, 1))\n",
              "    (11): ReLU(inplace=True)\n",
              "    (12): MaxPool2d(kernel_size=3, stride=2, padding=0, dilation=1, ceil_mode=False)\n",
              "  )\n",
              "  (avgpool): AdaptiveAvgPool2d(output_size=(6, 6))\n",
              "  (classifier): Sequential(\n",
              "    (0): Dropout(p=0.5, inplace=False)\n",
              "    (1): Linear(in_features=9216, out_features=4096, bias=True)\n",
              "    (2): ReLU(inplace=True)\n",
              "    (3): Dropout(p=0.5, inplace=False)\n",
              "    (4): Linear(in_features=4096, out_features=4096, bias=True)\n",
              "    (5): ReLU(inplace=True)\n",
              "    (6): Linear(in_features=4096, out_features=2, bias=True)\n",
              "  )\n",
              ")"
            ]
          },
          "execution_count": 6,
          "metadata": {},
          "output_type": "execute_result"
        }
      ],
      "source": [
        "#@title Incarcarea modelelor\n",
        "model = models.alexnet(pretrained=False)\n",
        "model.classifier[6] = nn.Linear(in_features=4096, out_features=2)\n",
        "model.load_state_dict(torch.load(path_to_model))\n",
        "model.eval()\n",
        "\n",
        "model_barney = models.alexnet(pretrained=False)\n",
        "model_barney.classifier[6] = nn.Linear(in_features=4096, out_features=2)\n",
        "model_barney.load_state_dict(torch.load(path_to_model_barney))\n",
        "model_barney.eval()\n",
        "\n",
        "model_betty = models.alexnet(pretrained=False)\n",
        "model_betty.classifier[6] = nn.Linear(in_features=4096, out_features=2)\n",
        "model_betty.load_state_dict(torch.load(path_to_model_betty))\n",
        "model_betty.eval()\n",
        "\n",
        "model_fred = models.alexnet(pretrained=False)\n",
        "model_fred.classifier[6] = nn.Linear(in_features=4096, out_features=2)\n",
        "model_fred.load_state_dict(torch.load(path_to_model_fred))\n",
        "model_fred.eval()\n",
        "\n",
        "model_wilma = models.alexnet(pretrained=False)\n",
        "model_wilma.classifier[6] = nn.Linear(in_features=4096, out_features=2)\n",
        "model_wilma.load_state_dict(torch.load(path_to_model_wilma))\n",
        "model_wilma.eval()\n",
        "\n",
        "model_unknown = models.alexnet(pretrained=False)\n",
        "model_unknown.classifier[6] = nn.Linear(in_features=4096, out_features=2)\n",
        "model_unknown.load_state_dict(torch.load(path_to_model_unknown))\n",
        "model_unknown.eval()"
      ]
    },
    {
      "cell_type": "code",
      "execution_count": null,
      "metadata": {
        "colab": {
          "base_uri": "https://localhost:8080/"
        },
        "id": "9oUO0BaIdykw",
        "outputId": "185a1738-9173-47fa-ba90-a1ac88c65636"
      },
      "outputs": [
        {
          "data": {
            "text/plain": [
              "AlexNet(\n",
              "  (features): Sequential(\n",
              "    (0): Conv2d(3, 64, kernel_size=(11, 11), stride=(4, 4), padding=(2, 2))\n",
              "    (1): ReLU(inplace=True)\n",
              "    (2): MaxPool2d(kernel_size=3, stride=2, padding=0, dilation=1, ceil_mode=False)\n",
              "    (3): Conv2d(64, 192, kernel_size=(5, 5), stride=(1, 1), padding=(2, 2))\n",
              "    (4): ReLU(inplace=True)\n",
              "    (5): MaxPool2d(kernel_size=3, stride=2, padding=0, dilation=1, ceil_mode=False)\n",
              "    (6): Conv2d(192, 384, kernel_size=(3, 3), stride=(1, 1), padding=(1, 1))\n",
              "    (7): ReLU(inplace=True)\n",
              "    (8): Conv2d(384, 256, kernel_size=(3, 3), stride=(1, 1), padding=(1, 1))\n",
              "    (9): ReLU(inplace=True)\n",
              "    (10): Conv2d(256, 256, kernel_size=(3, 3), stride=(1, 1), padding=(1, 1))\n",
              "    (11): ReLU(inplace=True)\n",
              "    (12): MaxPool2d(kernel_size=3, stride=2, padding=0, dilation=1, ceil_mode=False)\n",
              "  )\n",
              "  (avgpool): AdaptiveAvgPool2d(output_size=(6, 6))\n",
              "  (classifier): Sequential(\n",
              "    (0): Dropout(p=0.5, inplace=False)\n",
              "    (1): Linear(in_features=9216, out_features=4096, bias=True)\n",
              "    (2): ReLU(inplace=True)\n",
              "    (3): Dropout(p=0.5, inplace=False)\n",
              "    (4): Linear(in_features=4096, out_features=4096, bias=True)\n",
              "    (5): ReLU(inplace=True)\n",
              "    (6): Linear(in_features=4096, out_features=2, bias=True)\n",
              "  )\n",
              ")"
            ]
          },
          "execution_count": 7,
          "metadata": {},
          "output_type": "execute_result"
        }
      ],
      "source": [
        "model.to(\"cuda\")\n",
        "model_barney.to(\"cuda\")\n",
        "model_betty.to(\"cuda\")\n",
        "model_fred.to(\"cuda\")\n",
        "model_wilma.to(\"cuda\")\n",
        "model_unknown.to(\"cuda\")"
      ]
    },
    {
      "cell_type": "code",
      "execution_count": null,
      "metadata": {
        "cellView": "form",
        "id": "JuJntq-ve13a"
      },
      "outputs": [],
      "source": [
        "#@title Intersection over union\n",
        "def intersection_over_union(bbox_a, bbox_b):\n",
        "    x_a = max(bbox_a[0], bbox_b[0])\n",
        "    y_a = max(bbox_a[1], bbox_b[1])\n",
        "    x_b = min(bbox_a[2], bbox_b[2])\n",
        "    y_b = min(bbox_a[3], bbox_b[3])\n",
        "\n",
        "    inter_area = max(0, x_b - x_a + 1) * max(0, y_b - y_a + 1)\n",
        "\n",
        "    box_a_area = (bbox_a[2] - bbox_a[0] + 1) * (bbox_a[3] - bbox_a[1] + 1)\n",
        "    box_b_area = (bbox_b[2] - bbox_b[0] + 1) * (bbox_b[3] - bbox_b[1] + 1)\n",
        "\n",
        "    iou = inter_area / float(box_a_area + box_b_area - inter_area)\n",
        "\n",
        "    return iou"
      ]
    },
    {
      "cell_type": "code",
      "execution_count": null,
      "metadata": {
        "cellView": "form",
        "id": "X360NJprexwp"
      },
      "outputs": [],
      "source": [
        "#@title Non maximal suppression\n",
        "def non_maximal_suppression(image_detections, image_scores, image_size, image_names):\n",
        "    \"\"\"\n",
        "    Detectiile cu scor mare suprima detectiile ce se suprapun cu acestea dar au scor mai mic.\n",
        "    Detectiile se pot suprapune partial, dar centrul unei detectii nu poate\n",
        "    fi in interiorul celeilalte detectii.\n",
        "    :param image_detections:  numpy array de dimensiune NX4, unde N este numarul de detectii.\n",
        "    :param image_scores: numpy array de dimensiune N\n",
        "    :param image_size: tuplu, dimensiunea imaginii\n",
        "    :return: image_detections si image_scores care sunt maximale.\n",
        "    \"\"\"\n",
        "\n",
        "    # xmin, ymin, xmax, ymax\n",
        "    x_out_of_bounds = np.where(image_detections[:, 2] > image_size[1])[0]\n",
        "    y_out_of_bounds = np.where(image_detections[:, 3] > image_size[0])[0]\n",
        "    print(x_out_of_bounds, y_out_of_bounds)\n",
        "    image_detections[x_out_of_bounds, 2] = image_size[1]\n",
        "    image_detections[y_out_of_bounds, 3] = image_size[0]\n",
        "    sorted_indices = np.flipud(np.argsort(image_scores))\n",
        "    sorted_image_detections = image_detections[sorted_indices]\n",
        "    sorted_scores = image_scores[sorted_indices]\n",
        "    sorted_names = image_names[sorted_indices]\n",
        "\n",
        "    is_maximal = np.ones(len(image_detections)).astype(bool)\n",
        "    iou_threshold = 0.3\n",
        "    for i in range(len(sorted_image_detections) - 1):\n",
        "        if is_maximal[i] == True:  # don't change to 'is True' because is a numpy True and is not a python True :)\n",
        "            for j in range(i + 1, len(sorted_image_detections)):\n",
        "                if is_maximal[j] == True:  # don't change to 'is True' because is a numpy True and is not a python True :)\n",
        "                    if intersection_over_union(sorted_image_detections[i],sorted_image_detections[j]) > iou_threshold:is_maximal[j] = False\n",
        "                    else:  # verificam daca centrul detectiei este in mijlocul detectiei cu scor mai mare\n",
        "                        c_x = (sorted_image_detections[j][0] + sorted_image_detections[j][2]) / 2\n",
        "                        c_y = (sorted_image_detections[j][1] + sorted_image_detections[j][3]) / 2\n",
        "                        if sorted_image_detections[i][0] <= c_x <= sorted_image_detections[i][2] and \\\n",
        "                                sorted_image_detections[i][1] <= c_y <= sorted_image_detections[i][3]:\n",
        "                            is_maximal[j] = False\n",
        "    return sorted_image_detections[is_maximal], sorted_scores[is_maximal], sorted_names[is_maximal]"
      ]
    },
    {
      "cell_type": "code",
      "execution_count": null,
      "metadata": {
        "id": "xMjskUobeIhh"
      },
      "outputs": [],
      "source": [
        "def sliding_window(image):\n",
        "    image_detections = []\n",
        "    image_scores = []\n",
        "    image_names = []\n",
        "\n",
        "    for factor in [2, 1.6, 1.2, 1, 0.8, 0.6, 0.4, 0.2]:\n",
        "        new_img = cv.resize(image.copy(), (round(factor*image.shape[1]), round(factor*image.shape[0])))\n",
        "\n",
        "        for y in range(0, new_img.shape[0] - dim_window, 15):\n",
        "            for x in range(0, new_img.shape[1] - dim_window, 15):\n",
        "                img_window = new_img[y:y + dim_window, x:x + dim_window]\n",
        "\n",
        "                tensor_image = torch.from_numpy(img_window).float()\n",
        "                tensor_image = tensor_image.permute(2, 0, 1)\n",
        "                tensor_image = transforms.Normalize(mean=[0.485, 0.456, 0.406], std=[0.229, 0.224, 0.225])(tensor_image)\n",
        "                tensor_image = tensor_image.unsqueeze(0)\n",
        "\n",
        "                tensor_image = tensor_image.to(\"cuda\")\n",
        "\n",
        "                result = model(tensor_image)\n",
        "\n",
        "                probabilities = F.softmax(result, dim=1)\n",
        "                predicted_class = torch.argmax(probabilities, dim=1)\n",
        "\n",
        "                score = probabilities[0, 1].item()\n",
        "\n",
        "                if score > 0.99999:\n",
        "                    x_min = int(x // factor)\n",
        "                    y_min = int(y // factor)\n",
        "                    x_max = int((x + dim_window) // factor)\n",
        "                    y_max = int((y + dim_window) // factor)\n",
        "                    image_detections.append([x_min, y_min, x_max, y_max])\n",
        "                    image_scores.append(score)\n",
        "\n",
        "                    # Clasificarea fetei\n",
        "                    result_barney = model_barney(tensor_image)\n",
        "                    result_betty = model_betty(tensor_image)\n",
        "                    result_fred = model_fred(tensor_image)\n",
        "                    result_wilma = model_wilma(tensor_image)\n",
        "                    result_unknown = model_unknown(tensor_image)\n",
        "\n",
        "                    probabilities_barney = F.softmax(result_barney, dim=1)\n",
        "                    probabilities_betty = F.softmax(result_betty, dim=1)\n",
        "                    probabilities_fred = F.softmax(result_fred, dim=1)\n",
        "                    probabilities_wilma = F.softmax(result_wilma, dim=1)\n",
        "                    probabilities_unknown = F.softmax(result_unknown, dim=1)\n",
        "\n",
        "                    prob_barney = probabilities_barney[0, 1].item()\n",
        "                    prob_betty = probabilities_betty[0, 1].item()\n",
        "                    prob_fred = probabilities_fred[0, 1].item()\n",
        "                    prob_wilma = probabilities_wilma[0, 1].item()\n",
        "                    prob_unknown = probabilities_unknown[0, 1].item()\n",
        "\n",
        "                    if all(prob < 0.5 for prob in [prob_barney, prob_betty, prob_fred, prob_wilma]):\n",
        "                        predicted_class_name = \"unknown\"\n",
        "                        max_prob = prob_unknown\n",
        "                    else:\n",
        "                        max_prob, max_index = max((prob, idx) for idx, prob in enumerate([prob_barney, prob_betty, prob_fred, prob_wilma]))\n",
        "                        predicted_class_name = class_names[max_index]\n",
        "\n",
        "                    image_names.append(predicted_class_name)\n",
        "\n",
        "    if len(image_scores) > 0:\n",
        "      image_detections, image_scores, image_names = non_maximal_suppression(\n",
        "          np.array(image_detections), np.array(image_scores), image.shape, np.array(image_names))\n",
        "\n",
        "    return image_detections, image_scores, image_names\n"
      ]
    },
    {
      "cell_type": "code",
      "execution_count": null,
      "metadata": {
        "id": "isor0FqdeSxl"
      },
      "outputs": [],
      "source": [
        "def task(path_to_images):\n",
        "    jpg_files = []\n",
        "    file_names = np.array([])\n",
        "    scores = np.array([])\n",
        "    detections = None\n",
        "    names = []\n",
        "\n",
        "    for filename in os.listdir(path_to_images):\n",
        "        if filename.endswith(\".jpg\"):\n",
        "            jpg_files.append(filename)\n",
        "\n",
        "    num_images = len(jpg_files)\n",
        "\n",
        "    for i, filename in enumerate(jpg_files):\n",
        "        img = cv.imread(os.path.join(path_to_images,filename))\n",
        "        start_time = timeit.default_timer()\n",
        "\n",
        "        current_detections, current_scores, current_names = sliding_window(img)\n",
        "\n",
        "        end_time = timeit.default_timer()\n",
        "        print('Timpul de procesarea al imaginii de testare %d/%d este %f sec.'\n",
        "                % (i, num_images, end_time - start_time))\n",
        "\n",
        "\n",
        "        if current_detections is not None and len(current_detections) > 0:\n",
        "\n",
        "            image_names = [filename for _ in range(len(current_detections))]\n",
        "            file_names = np.append(file_names, image_names)\n",
        "            scores = np.append(scores, current_scores)\n",
        "            names = np.append(names, current_names)\n",
        "\n",
        "            if detections is None:\n",
        "                detections = current_detections\n",
        "            else:\n",
        "                detections = np.concatenate((detections, current_detections))\n",
        "\n",
        "            for idx, detection in enumerate(current_detections):\n",
        "                cv.rectangle(img, (detection[0], detection[1]), (detection[2], detection[3]), (0, 255, 0), thickness=2)\n",
        "                cv.putText(img, f'name: {current_names[idx]}', (detection[0], detection[1]),\n",
        "                        cv.FONT_HERSHEY_SIMPLEX, 0.5, (0, 255, 255), 1)\n",
        "\n",
        "            # cv2_imshow(np.uint8(img))\n",
        "\n",
        "        # cv.imwrite(os.path.join(dir_save_files, \"detections_\" + filename), img)\n",
        "\n",
        "    return detections, scores, file_names, names\n"
      ]
    },
    {
      "cell_type": "code",
      "execution_count": null,
      "metadata": {
        "colab": {
          "base_uri": "https://localhost:8080/"
        },
        "id": "SibBV7mKebVV",
        "outputId": "658fd8a6-171e-4cd9-af4b-f3e9c6cdca76"
      },
      "outputs": [
        {
          "name": "stdout",
          "output_type": "stream",
          "text": [
            "[] []\n",
            "Timpul de procesarea al imaginii de testare 0/200 este 13.306386 sec.\n",
            "[] []\n",
            "Timpul de procesarea al imaginii de testare 1/200 este 14.216180 sec.\n",
            "[] []\n",
            "Timpul de procesarea al imaginii de testare 2/200 este 13.165009 sec.\n",
            "[] []\n",
            "Timpul de procesarea al imaginii de testare 3/200 este 12.214625 sec.\n",
            "[] []\n",
            "Timpul de procesarea al imaginii de testare 4/200 este 12.408628 sec.\n",
            "[] []\n",
            "Timpul de procesarea al imaginii de testare 5/200 este 12.720541 sec.\n",
            "[] []\n",
            "Timpul de procesarea al imaginii de testare 6/200 este 12.864192 sec.\n",
            "Timpul de procesarea al imaginii de testare 7/200 este 12.980225 sec.\n",
            "Timpul de procesarea al imaginii de testare 8/200 este 13.022611 sec.\n",
            "[] []\n",
            "Timpul de procesarea al imaginii de testare 9/200 este 13.038641 sec.\n",
            "Timpul de procesarea al imaginii de testare 10/200 este 13.125835 sec.\n",
            "[] []\n",
            "Timpul de procesarea al imaginii de testare 11/200 este 12.752591 sec.\n",
            "[] []\n",
            "Timpul de procesarea al imaginii de testare 12/200 este 12.948194 sec.\n",
            "[] []\n",
            "Timpul de procesarea al imaginii de testare 13/200 este 12.540297 sec.\n",
            "[] []\n",
            "Timpul de procesarea al imaginii de testare 14/200 este 12.703206 sec.\n",
            "[] []\n",
            "Timpul de procesarea al imaginii de testare 15/200 este 12.680699 sec.\n",
            "[] []\n",
            "Timpul de procesarea al imaginii de testare 16/200 este 12.986882 sec.\n",
            "[] []\n",
            "Timpul de procesarea al imaginii de testare 17/200 este 12.849307 sec.\n",
            "[] []\n",
            "Timpul de procesarea al imaginii de testare 18/200 este 12.859960 sec.\n",
            "[] []\n",
            "Timpul de procesarea al imaginii de testare 19/200 este 12.915486 sec.\n",
            "[] []\n",
            "Timpul de procesarea al imaginii de testare 20/200 este 12.898797 sec.\n",
            "[] []\n",
            "Timpul de procesarea al imaginii de testare 21/200 este 12.911409 sec.\n",
            "[] []\n",
            "Timpul de procesarea al imaginii de testare 22/200 este 12.517142 sec.\n",
            "[] []\n",
            "Timpul de procesarea al imaginii de testare 23/200 este 12.504556 sec.\n",
            "[] []\n",
            "Timpul de procesarea al imaginii de testare 24/200 este 12.431614 sec.\n",
            "[] []\n",
            "Timpul de procesarea al imaginii de testare 25/200 este 12.700108 sec.\n",
            "[] []\n",
            "Timpul de procesarea al imaginii de testare 26/200 este 12.767377 sec.\n",
            "[] []\n",
            "Timpul de procesarea al imaginii de testare 27/200 este 12.783220 sec.\n",
            "[] []\n",
            "Timpul de procesarea al imaginii de testare 28/200 este 12.788648 sec.\n",
            "[] []\n",
            "Timpul de procesarea al imaginii de testare 29/200 este 12.829608 sec.\n",
            "[] []\n",
            "Timpul de procesarea al imaginii de testare 30/200 este 12.822715 sec.\n",
            "[] []\n",
            "Timpul de procesarea al imaginii de testare 31/200 este 12.636224 sec.\n",
            "[] []\n",
            "Timpul de procesarea al imaginii de testare 32/200 este 12.437616 sec.\n",
            "Timpul de procesarea al imaginii de testare 33/200 este 13.110974 sec.\n",
            "[] []\n",
            "Timpul de procesarea al imaginii de testare 34/200 este 12.787690 sec.\n",
            "[] []\n",
            "Timpul de procesarea al imaginii de testare 35/200 este 13.407016 sec.\n",
            "[] []\n",
            "Timpul de procesarea al imaginii de testare 36/200 este 13.437110 sec.\n",
            "[] []\n",
            "Timpul de procesarea al imaginii de testare 37/200 este 12.839866 sec.\n",
            "[] []\n",
            "Timpul de procesarea al imaginii de testare 38/200 este 13.096960 sec.\n",
            "[] []\n",
            "Timpul de procesarea al imaginii de testare 39/200 este 13.050384 sec.\n",
            "[] []\n",
            "Timpul de procesarea al imaginii de testare 40/200 este 12.924378 sec.\n",
            "[] []\n",
            "Timpul de procesarea al imaginii de testare 41/200 este 12.913552 sec.\n",
            "[] []\n",
            "Timpul de procesarea al imaginii de testare 42/200 este 12.801260 sec.\n",
            "[] []\n",
            "Timpul de procesarea al imaginii de testare 43/200 este 12.804852 sec.\n",
            "[] []\n",
            "Timpul de procesarea al imaginii de testare 44/200 este 12.728479 sec.\n",
            "[] []\n",
            "Timpul de procesarea al imaginii de testare 45/200 este 12.739485 sec.\n",
            "[] []\n",
            "Timpul de procesarea al imaginii de testare 46/200 este 13.073303 sec.\n",
            "[] []\n",
            "Timpul de procesarea al imaginii de testare 47/200 este 13.080485 sec.\n",
            "[] []\n",
            "Timpul de procesarea al imaginii de testare 48/200 este 12.905087 sec.\n",
            "[] []\n",
            "Timpul de procesarea al imaginii de testare 49/200 este 12.662591 sec.\n",
            "[] []\n",
            "Timpul de procesarea al imaginii de testare 50/200 este 12.996873 sec.\n",
            "[] []\n",
            "Timpul de procesarea al imaginii de testare 51/200 este 13.209473 sec.\n",
            "[] []\n",
            "Timpul de procesarea al imaginii de testare 52/200 este 12.950308 sec.\n",
            "[] []\n",
            "Timpul de procesarea al imaginii de testare 53/200 este 12.845865 sec.\n",
            "[] []\n",
            "Timpul de procesarea al imaginii de testare 54/200 este 12.690160 sec.\n",
            "[] []\n",
            "Timpul de procesarea al imaginii de testare 55/200 este 12.569714 sec.\n",
            "[] []\n",
            "Timpul de procesarea al imaginii de testare 56/200 este 12.932528 sec.\n",
            "[] []\n",
            "Timpul de procesarea al imaginii de testare 57/200 este 12.789219 sec.\n",
            "[] []\n",
            "Timpul de procesarea al imaginii de testare 58/200 este 13.192653 sec.\n",
            "[] []\n",
            "Timpul de procesarea al imaginii de testare 59/200 este 13.007412 sec.\n",
            "[] []\n",
            "Timpul de procesarea al imaginii de testare 60/200 este 13.038465 sec.\n",
            "[] []\n",
            "Timpul de procesarea al imaginii de testare 61/200 este 13.094882 sec.\n",
            "[] []\n",
            "Timpul de procesarea al imaginii de testare 62/200 este 13.063301 sec.\n",
            "[] []\n",
            "Timpul de procesarea al imaginii de testare 63/200 este 12.956233 sec.\n",
            "[] []\n",
            "Timpul de procesarea al imaginii de testare 64/200 este 12.771370 sec.\n",
            "[] []\n",
            "Timpul de procesarea al imaginii de testare 65/200 este 13.151820 sec.\n",
            "[] []\n",
            "Timpul de procesarea al imaginii de testare 66/200 este 12.942054 sec.\n",
            "[] []\n",
            "Timpul de procesarea al imaginii de testare 67/200 este 13.036147 sec.\n",
            "[] []\n",
            "Timpul de procesarea al imaginii de testare 68/200 este 13.049610 sec.\n",
            "[] []\n",
            "Timpul de procesarea al imaginii de testare 69/200 este 13.258997 sec.\n",
            "[] []\n",
            "Timpul de procesarea al imaginii de testare 70/200 este 12.954093 sec.\n",
            "[] []\n",
            "Timpul de procesarea al imaginii de testare 71/200 este 13.179337 sec.\n",
            "[] []\n",
            "Timpul de procesarea al imaginii de testare 72/200 este 13.115997 sec.\n",
            "[] []\n",
            "Timpul de procesarea al imaginii de testare 73/200 este 12.971588 sec.\n",
            "[] []\n",
            "Timpul de procesarea al imaginii de testare 74/200 este 12.645766 sec.\n",
            "[] []\n",
            "Timpul de procesarea al imaginii de testare 75/200 este 12.916713 sec.\n",
            "[] []\n",
            "Timpul de procesarea al imaginii de testare 76/200 este 12.926925 sec.\n",
            "[] []\n",
            "Timpul de procesarea al imaginii de testare 77/200 este 13.106392 sec.\n",
            "[] []\n",
            "Timpul de procesarea al imaginii de testare 78/200 este 12.798000 sec.\n",
            "[] []\n",
            "Timpul de procesarea al imaginii de testare 79/200 este 12.808707 sec.\n",
            "[] []\n",
            "Timpul de procesarea al imaginii de testare 80/200 este 13.037931 sec.\n",
            "[] []\n",
            "Timpul de procesarea al imaginii de testare 81/200 este 13.034911 sec.\n",
            "[] []\n",
            "Timpul de procesarea al imaginii de testare 82/200 este 12.847891 sec.\n",
            "[] []\n",
            "Timpul de procesarea al imaginii de testare 83/200 este 12.840377 sec.\n",
            "[] []\n",
            "Timpul de procesarea al imaginii de testare 84/200 este 12.808554 sec.\n",
            "[] []\n",
            "Timpul de procesarea al imaginii de testare 85/200 este 12.941736 sec.\n",
            "[] []\n",
            "Timpul de procesarea al imaginii de testare 86/200 este 12.921828 sec.\n",
            "[] []\n",
            "Timpul de procesarea al imaginii de testare 87/200 este 12.714470 sec.\n",
            "[] []\n",
            "Timpul de procesarea al imaginii de testare 88/200 este 12.490803 sec.\n",
            "[] []\n",
            "Timpul de procesarea al imaginii de testare 89/200 este 12.520613 sec.\n",
            "[] []\n",
            "Timpul de procesarea al imaginii de testare 90/200 este 12.568895 sec.\n",
            "[] []\n",
            "Timpul de procesarea al imaginii de testare 91/200 este 12.826603 sec.\n",
            "[] []\n",
            "Timpul de procesarea al imaginii de testare 92/200 este 12.823090 sec.\n",
            "[] []\n",
            "Timpul de procesarea al imaginii de testare 93/200 este 12.900505 sec.\n",
            "[] []\n",
            "Timpul de procesarea al imaginii de testare 94/200 este 12.805114 sec.\n",
            "[] []\n",
            "Timpul de procesarea al imaginii de testare 95/200 este 12.779489 sec.\n",
            "[] []\n",
            "Timpul de procesarea al imaginii de testare 96/200 este 12.921005 sec.\n",
            "[] []\n",
            "Timpul de procesarea al imaginii de testare 97/200 este 12.725729 sec.\n",
            "[] []\n",
            "Timpul de procesarea al imaginii de testare 98/200 este 12.467546 sec.\n",
            "[] []\n",
            "Timpul de procesarea al imaginii de testare 99/200 este 12.434568 sec.\n",
            "[] []\n",
            "Timpul de procesarea al imaginii de testare 100/200 este 12.541995 sec.\n",
            "[] []\n",
            "Timpul de procesarea al imaginii de testare 101/200 este 12.736733 sec.\n",
            "[] []\n",
            "Timpul de procesarea al imaginii de testare 102/200 este 12.822796 sec.\n",
            "[] []\n",
            "Timpul de procesarea al imaginii de testare 103/200 este 12.827156 sec.\n",
            "[] []\n",
            "Timpul de procesarea al imaginii de testare 104/200 este 12.753733 sec.\n",
            "[] []\n",
            "Timpul de procesarea al imaginii de testare 105/200 este 12.777210 sec.\n",
            "[] []\n",
            "Timpul de procesarea al imaginii de testare 106/200 este 12.755290 sec.\n",
            "[] []\n",
            "Timpul de procesarea al imaginii de testare 107/200 este 12.604667 sec.\n",
            "[] []\n",
            "Timpul de procesarea al imaginii de testare 108/200 este 12.562467 sec.\n",
            "[] []\n",
            "Timpul de procesarea al imaginii de testare 109/200 este 12.471621 sec.\n",
            "[] []\n",
            "Timpul de procesarea al imaginii de testare 110/200 este 12.628141 sec.\n",
            "[] []\n",
            "Timpul de procesarea al imaginii de testare 111/200 este 12.790944 sec.\n",
            "[] []\n",
            "Timpul de procesarea al imaginii de testare 112/200 este 12.817082 sec.\n",
            "[] []\n",
            "Timpul de procesarea al imaginii de testare 113/200 este 12.833766 sec.\n",
            "[] []\n",
            "Timpul de procesarea al imaginii de testare 114/200 este 12.731836 sec.\n",
            "[] []\n",
            "Timpul de procesarea al imaginii de testare 115/200 este 12.979671 sec.\n",
            "[] []\n",
            "Timpul de procesarea al imaginii de testare 116/200 este 12.891795 sec.\n",
            "[] []\n",
            "Timpul de procesarea al imaginii de testare 117/200 este 12.946453 sec.\n",
            "[] []\n",
            "Timpul de procesarea al imaginii de testare 118/200 este 12.466999 sec.\n",
            "[] []\n",
            "Timpul de procesarea al imaginii de testare 119/200 este 12.449959 sec.\n",
            "[] []\n",
            "Timpul de procesarea al imaginii de testare 120/200 este 12.550807 sec.\n",
            "[] []\n",
            "Timpul de procesarea al imaginii de testare 121/200 este 12.694092 sec.\n",
            "[] []\n",
            "Timpul de procesarea al imaginii de testare 122/200 este 12.733037 sec.\n",
            "[] []\n",
            "Timpul de procesarea al imaginii de testare 123/200 este 12.706775 sec.\n",
            "[] []\n",
            "Timpul de procesarea al imaginii de testare 124/200 este 12.746464 sec.\n",
            "[] []\n",
            "Timpul de procesarea al imaginii de testare 125/200 este 12.857321 sec.\n",
            "[] []\n",
            "Timpul de procesarea al imaginii de testare 126/200 este 12.882120 sec.\n",
            "[] []\n",
            "Timpul de procesarea al imaginii de testare 127/200 este 12.645424 sec.\n",
            "[] []\n",
            "Timpul de procesarea al imaginii de testare 128/200 este 12.534576 sec.\n",
            "[] []\n",
            "Timpul de procesarea al imaginii de testare 129/200 este 12.420487 sec.\n",
            "[] []\n",
            "Timpul de procesarea al imaginii de testare 130/200 este 12.793670 sec.\n",
            "[] []\n",
            "Timpul de procesarea al imaginii de testare 131/200 este 12.743498 sec.\n",
            "[] []\n",
            "Timpul de procesarea al imaginii de testare 132/200 este 12.855916 sec.\n",
            "[] []\n",
            "Timpul de procesarea al imaginii de testare 133/200 este 12.825063 sec.\n",
            "[] []\n",
            "Timpul de procesarea al imaginii de testare 134/200 este 12.756097 sec.\n",
            "[] []\n",
            "Timpul de procesarea al imaginii de testare 135/200 este 12.886201 sec.\n",
            "[] []\n",
            "Timpul de procesarea al imaginii de testare 136/200 este 12.841744 sec.\n",
            "[] []\n",
            "Timpul de procesarea al imaginii de testare 137/200 este 12.843326 sec.\n",
            "[] []\n",
            "Timpul de procesarea al imaginii de testare 138/200 este 12.641982 sec.\n",
            "[] []\n",
            "Timpul de procesarea al imaginii de testare 139/200 este 12.572914 sec.\n",
            "[] []\n",
            "Timpul de procesarea al imaginii de testare 140/200 este 12.539558 sec.\n",
            "[] []\n",
            "Timpul de procesarea al imaginii de testare 141/200 este 12.696102 sec.\n",
            "[] []\n",
            "Timpul de procesarea al imaginii de testare 142/200 este 12.759355 sec.\n",
            "[] []\n",
            "Timpul de procesarea al imaginii de testare 143/200 este 12.815371 sec.\n",
            "[] []\n",
            "Timpul de procesarea al imaginii de testare 144/200 este 12.765780 sec.\n",
            "[] []\n",
            "Timpul de procesarea al imaginii de testare 145/200 este 12.776780 sec.\n",
            "[] []\n",
            "Timpul de procesarea al imaginii de testare 146/200 este 12.978637 sec.\n",
            "[] []\n",
            "Timpul de procesarea al imaginii de testare 147/200 este 12.790269 sec.\n",
            "[] []\n",
            "Timpul de procesarea al imaginii de testare 148/200 este 12.714457 sec.\n",
            "[] []\n",
            "Timpul de procesarea al imaginii de testare 149/200 este 12.475960 sec.\n",
            "[] []\n",
            "Timpul de procesarea al imaginii de testare 150/200 este 12.601067 sec.\n",
            "[] []\n",
            "Timpul de procesarea al imaginii de testare 151/200 este 12.672686 sec.\n",
            "[] []\n",
            "Timpul de procesarea al imaginii de testare 152/200 este 12.750729 sec.\n",
            "[] []\n",
            "Timpul de procesarea al imaginii de testare 153/200 este 12.849685 sec.\n",
            "[] []\n",
            "Timpul de procesarea al imaginii de testare 154/200 este 12.846402 sec.\n",
            "[] []\n",
            "Timpul de procesarea al imaginii de testare 155/200 este 12.764387 sec.\n",
            "[] []\n",
            "Timpul de procesarea al imaginii de testare 156/200 este 12.809243 sec.\n",
            "[] []\n",
            "Timpul de procesarea al imaginii de testare 157/200 este 12.907195 sec.\n",
            "[] []\n",
            "Timpul de procesarea al imaginii de testare 158/200 este 15.611681 sec.\n",
            "[] []\n",
            "Timpul de procesarea al imaginii de testare 159/200 este 12.888738 sec.\n",
            "[] []\n",
            "Timpul de procesarea al imaginii de testare 160/200 este 12.754648 sec.\n",
            "[] []\n",
            "Timpul de procesarea al imaginii de testare 161/200 este 12.562894 sec.\n",
            "[] []\n",
            "Timpul de procesarea al imaginii de testare 162/200 este 12.515822 sec.\n",
            "[] []\n",
            "Timpul de procesarea al imaginii de testare 163/200 este 12.670544 sec.\n",
            "[] []\n",
            "Timpul de procesarea al imaginii de testare 164/200 este 13.907326 sec.\n",
            "[] []\n",
            "Timpul de procesarea al imaginii de testare 165/200 este 12.828605 sec.\n",
            "Timpul de procesarea al imaginii de testare 166/200 este 12.776882 sec.\n",
            "[] []\n",
            "Timpul de procesarea al imaginii de testare 167/200 este 12.708182 sec.\n",
            "Timpul de procesarea al imaginii de testare 168/200 este 12.827738 sec.\n",
            "Timpul de procesarea al imaginii de testare 169/200 este 12.709827 sec.\n",
            "[] []\n",
            "Timpul de procesarea al imaginii de testare 170/200 este 12.753324 sec.\n",
            "[] []\n",
            "Timpul de procesarea al imaginii de testare 171/200 este 12.645509 sec.\n",
            "[] []\n",
            "Timpul de procesarea al imaginii de testare 172/200 este 12.575080 sec.\n",
            "[] []\n",
            "Timpul de procesarea al imaginii de testare 173/200 este 12.543822 sec.\n",
            "[] []\n",
            "Timpul de procesarea al imaginii de testare 174/200 este 12.766993 sec.\n",
            "[] []\n",
            "Timpul de procesarea al imaginii de testare 175/200 este 12.980996 sec.\n",
            "[] []\n",
            "Timpul de procesarea al imaginii de testare 176/200 este 12.870297 sec.\n",
            "[] []\n",
            "Timpul de procesarea al imaginii de testare 177/200 este 12.957054 sec.\n",
            "[] []\n",
            "Timpul de procesarea al imaginii de testare 178/200 este 12.915217 sec.\n",
            "[] []\n",
            "Timpul de procesarea al imaginii de testare 179/200 este 12.974525 sec.\n",
            "[] []\n",
            "Timpul de procesarea al imaginii de testare 180/200 este 12.871071 sec.\n",
            "Timpul de procesarea al imaginii de testare 181/200 este 12.717484 sec.\n",
            "[] []\n",
            "Timpul de procesarea al imaginii de testare 182/200 este 12.638479 sec.\n",
            "[] []\n",
            "Timpul de procesarea al imaginii de testare 183/200 este 12.569769 sec.\n",
            "[] []\n",
            "Timpul de procesarea al imaginii de testare 184/200 este 12.684467 sec.\n",
            "[] []\n",
            "Timpul de procesarea al imaginii de testare 185/200 este 12.948910 sec.\n",
            "[] []\n",
            "Timpul de procesarea al imaginii de testare 186/200 este 12.900431 sec.\n",
            "[] []\n",
            "Timpul de procesarea al imaginii de testare 187/200 este 12.898231 sec.\n",
            "[] []\n",
            "Timpul de procesarea al imaginii de testare 188/200 este 12.972882 sec.\n",
            "Timpul de procesarea al imaginii de testare 189/200 este 12.849489 sec.\n",
            "Timpul de procesarea al imaginii de testare 190/200 este 12.841426 sec.\n",
            "Timpul de procesarea al imaginii de testare 191/200 este 12.665328 sec.\n",
            "[] []\n",
            "Timpul de procesarea al imaginii de testare 192/200 este 12.700516 sec.\n",
            "[] []\n",
            "Timpul de procesarea al imaginii de testare 193/200 este 12.627406 sec.\n",
            "[] []\n",
            "Timpul de procesarea al imaginii de testare 194/200 este 12.654716 sec.\n",
            "[] []\n",
            "Timpul de procesarea al imaginii de testare 195/200 este 12.859560 sec.\n",
            "[] []\n",
            "Timpul de procesarea al imaginii de testare 196/200 este 12.919043 sec.\n",
            "[] []\n",
            "Timpul de procesarea al imaginii de testare 197/200 este 12.848690 sec.\n",
            "[] []\n",
            "Timpul de procesarea al imaginii de testare 198/200 este 13.004891 sec.\n",
            "[] []\n",
            "Timpul de procesarea al imaginii de testare 199/200 este 12.893530 sec.\n"
          ]
        }
      ],
      "source": [
        "detections, scores, file_names, names = task(path_to_images)\n"
      ]
    },
    {
      "cell_type": "code",
      "execution_count": null,
      "metadata": {
        "id": "c7H9AbdyrRGo"
      },
      "outputs": [],
      "source": [
        "np.save(os.path.join(task1_path, f\"detections_all_faces.npy\"), np.array(detections, dtype=object))\n",
        "np.save(os.path.join(task1_path, f\"scores_all_faces.npy\"), np.array(scores, dtype=object))\n",
        "np.save(os.path.join(task1_path, f\"file_names_all_faces.npy\"), np.array(file_names, dtype=object))"
      ]
    },
    {
      "cell_type": "code",
      "execution_count": null,
      "metadata": {
        "id": "XjKd7orl7vcb"
      },
      "outputs": [],
      "source": [
        "for character in class_names:\n",
        "    indices = np.where(names == character)[0]\n",
        "    np.save(os.path.join(task2_path, f\"detections_{character}.npy\"), np.array(detections[indices], dtype=object))\n",
        "    np.save(os.path.join(task2_path, f\"scores_{character}.npy\"), np.array(scores[indices], dtype=object))\n",
        "    np.save(os.path.join(task2_path, f\"file_names_{character}.npy\"), np.array(file_names[indices], dtype=object))"
      ]
    },
    {
      "cell_type": "markdown",
      "metadata": {
        "id": "0ViO4GTQ2UbP"
      },
      "source": [
        "# Aplicarea modelului pentru task-ul bonus\n"
      ]
    },
    {
      "cell_type": "code",
      "execution_count": null,
      "metadata": {
        "id": "v-glFEOV4iHv"
      },
      "outputs": [],
      "source": [
        "def apply_nms(orig_prediction, iou_thresh=0.3):\n",
        "\n",
        "    keep = torchvision.ops.nms(orig_prediction['boxes'], orig_prediction['scores'], iou_thresh)\n",
        "\n",
        "    final_prediction = orig_prediction\n",
        "    final_prediction['boxes'] = final_prediction['boxes'][keep]\n",
        "    final_prediction['scores'] = final_prediction['scores'][keep]\n",
        "    final_prediction['labels'] = final_prediction['labels'][keep]\n",
        "\n",
        "    return final_prediction\n",
        "\n",
        "def torch_to_pil(img):\n",
        "    return torchtrans.ToPILImage()(img).convert('RGB')"
      ]
    },
    {
      "cell_type": "code",
      "execution_count": null,
      "metadata": {
        "id": "w5jS57At4-pm"
      },
      "outputs": [],
      "source": [
        "def get_object_detection_model(num_classes):\n",
        "    model = torchvision.models.detection.fasterrcnn_resnet50_fpn(pretrained=True)\n",
        "    in_features = model.roi_heads.box_predictor.cls_score.in_features\n",
        "    model.roi_heads.box_predictor = FastRCNNPredictor(in_features, num_classes)\n",
        "\n",
        "    return model"
      ]
    },
    {
      "cell_type": "code",
      "execution_count": null,
      "metadata": {
        "colab": {
          "base_uri": "https://localhost:8080/"
        },
        "id": "ZUB-r0knBtrl",
        "outputId": "8332b175-610a-48a8-a5f6-23b8e276537e"
      },
      "outputs": [
        {
          "data": {
            "text/plain": [
              "device(type='cuda')"
            ]
          },
          "execution_count": 17,
          "metadata": {},
          "output_type": "execute_result"
        }
      ],
      "source": [
        "device"
      ]
    },
    {
      "cell_type": "code",
      "execution_count": null,
      "metadata": {
        "colab": {
          "base_uri": "https://localhost:8080/"
        },
        "id": "aBgGqJ4h4kHX",
        "outputId": "e399f5ae-dec8-474e-b1fb-82ff76d91144"
      },
      "outputs": [
        {
          "name": "stderr",
          "output_type": "stream",
          "text": [
            "Downloading: \"https://download.pytorch.org/models/fasterrcnn_resnet50_fpn_coco-258fb6c6.pth\" to /root/.cache/torch/hub/checkpoints/fasterrcnn_resnet50_fpn_coco-258fb6c6.pth\n",
            "100%|██████████| 160M/160M [00:01<00:00, 138MB/s]\n"
          ]
        },
        {
          "data": {
            "text/plain": [
              "FasterRCNN(\n",
              "  (transform): GeneralizedRCNNTransform(\n",
              "      Normalize(mean=[0.485, 0.456, 0.406], std=[0.229, 0.224, 0.225])\n",
              "      Resize(min_size=(800,), max_size=1333, mode='bilinear')\n",
              "  )\n",
              "  (backbone): BackboneWithFPN(\n",
              "    (body): IntermediateLayerGetter(\n",
              "      (conv1): Conv2d(3, 64, kernel_size=(7, 7), stride=(2, 2), padding=(3, 3), bias=False)\n",
              "      (bn1): FrozenBatchNorm2d(64, eps=0.0)\n",
              "      (relu): ReLU(inplace=True)\n",
              "      (maxpool): MaxPool2d(kernel_size=3, stride=2, padding=1, dilation=1, ceil_mode=False)\n",
              "      (layer1): Sequential(\n",
              "        (0): Bottleneck(\n",
              "          (conv1): Conv2d(64, 64, kernel_size=(1, 1), stride=(1, 1), bias=False)\n",
              "          (bn1): FrozenBatchNorm2d(64, eps=0.0)\n",
              "          (conv2): Conv2d(64, 64, kernel_size=(3, 3), stride=(1, 1), padding=(1, 1), bias=False)\n",
              "          (bn2): FrozenBatchNorm2d(64, eps=0.0)\n",
              "          (conv3): Conv2d(64, 256, kernel_size=(1, 1), stride=(1, 1), bias=False)\n",
              "          (bn3): FrozenBatchNorm2d(256, eps=0.0)\n",
              "          (relu): ReLU(inplace=True)\n",
              "          (downsample): Sequential(\n",
              "            (0): Conv2d(64, 256, kernel_size=(1, 1), stride=(1, 1), bias=False)\n",
              "            (1): FrozenBatchNorm2d(256, eps=0.0)\n",
              "          )\n",
              "        )\n",
              "        (1): Bottleneck(\n",
              "          (conv1): Conv2d(256, 64, kernel_size=(1, 1), stride=(1, 1), bias=False)\n",
              "          (bn1): FrozenBatchNorm2d(64, eps=0.0)\n",
              "          (conv2): Conv2d(64, 64, kernel_size=(3, 3), stride=(1, 1), padding=(1, 1), bias=False)\n",
              "          (bn2): FrozenBatchNorm2d(64, eps=0.0)\n",
              "          (conv3): Conv2d(64, 256, kernel_size=(1, 1), stride=(1, 1), bias=False)\n",
              "          (bn3): FrozenBatchNorm2d(256, eps=0.0)\n",
              "          (relu): ReLU(inplace=True)\n",
              "        )\n",
              "        (2): Bottleneck(\n",
              "          (conv1): Conv2d(256, 64, kernel_size=(1, 1), stride=(1, 1), bias=False)\n",
              "          (bn1): FrozenBatchNorm2d(64, eps=0.0)\n",
              "          (conv2): Conv2d(64, 64, kernel_size=(3, 3), stride=(1, 1), padding=(1, 1), bias=False)\n",
              "          (bn2): FrozenBatchNorm2d(64, eps=0.0)\n",
              "          (conv3): Conv2d(64, 256, kernel_size=(1, 1), stride=(1, 1), bias=False)\n",
              "          (bn3): FrozenBatchNorm2d(256, eps=0.0)\n",
              "          (relu): ReLU(inplace=True)\n",
              "        )\n",
              "      )\n",
              "      (layer2): Sequential(\n",
              "        (0): Bottleneck(\n",
              "          (conv1): Conv2d(256, 128, kernel_size=(1, 1), stride=(1, 1), bias=False)\n",
              "          (bn1): FrozenBatchNorm2d(128, eps=0.0)\n",
              "          (conv2): Conv2d(128, 128, kernel_size=(3, 3), stride=(2, 2), padding=(1, 1), bias=False)\n",
              "          (bn2): FrozenBatchNorm2d(128, eps=0.0)\n",
              "          (conv3): Conv2d(128, 512, kernel_size=(1, 1), stride=(1, 1), bias=False)\n",
              "          (bn3): FrozenBatchNorm2d(512, eps=0.0)\n",
              "          (relu): ReLU(inplace=True)\n",
              "          (downsample): Sequential(\n",
              "            (0): Conv2d(256, 512, kernel_size=(1, 1), stride=(2, 2), bias=False)\n",
              "            (1): FrozenBatchNorm2d(512, eps=0.0)\n",
              "          )\n",
              "        )\n",
              "        (1): Bottleneck(\n",
              "          (conv1): Conv2d(512, 128, kernel_size=(1, 1), stride=(1, 1), bias=False)\n",
              "          (bn1): FrozenBatchNorm2d(128, eps=0.0)\n",
              "          (conv2): Conv2d(128, 128, kernel_size=(3, 3), stride=(1, 1), padding=(1, 1), bias=False)\n",
              "          (bn2): FrozenBatchNorm2d(128, eps=0.0)\n",
              "          (conv3): Conv2d(128, 512, kernel_size=(1, 1), stride=(1, 1), bias=False)\n",
              "          (bn3): FrozenBatchNorm2d(512, eps=0.0)\n",
              "          (relu): ReLU(inplace=True)\n",
              "        )\n",
              "        (2): Bottleneck(\n",
              "          (conv1): Conv2d(512, 128, kernel_size=(1, 1), stride=(1, 1), bias=False)\n",
              "          (bn1): FrozenBatchNorm2d(128, eps=0.0)\n",
              "          (conv2): Conv2d(128, 128, kernel_size=(3, 3), stride=(1, 1), padding=(1, 1), bias=False)\n",
              "          (bn2): FrozenBatchNorm2d(128, eps=0.0)\n",
              "          (conv3): Conv2d(128, 512, kernel_size=(1, 1), stride=(1, 1), bias=False)\n",
              "          (bn3): FrozenBatchNorm2d(512, eps=0.0)\n",
              "          (relu): ReLU(inplace=True)\n",
              "        )\n",
              "        (3): Bottleneck(\n",
              "          (conv1): Conv2d(512, 128, kernel_size=(1, 1), stride=(1, 1), bias=False)\n",
              "          (bn1): FrozenBatchNorm2d(128, eps=0.0)\n",
              "          (conv2): Conv2d(128, 128, kernel_size=(3, 3), stride=(1, 1), padding=(1, 1), bias=False)\n",
              "          (bn2): FrozenBatchNorm2d(128, eps=0.0)\n",
              "          (conv3): Conv2d(128, 512, kernel_size=(1, 1), stride=(1, 1), bias=False)\n",
              "          (bn3): FrozenBatchNorm2d(512, eps=0.0)\n",
              "          (relu): ReLU(inplace=True)\n",
              "        )\n",
              "      )\n",
              "      (layer3): Sequential(\n",
              "        (0): Bottleneck(\n",
              "          (conv1): Conv2d(512, 256, kernel_size=(1, 1), stride=(1, 1), bias=False)\n",
              "          (bn1): FrozenBatchNorm2d(256, eps=0.0)\n",
              "          (conv2): Conv2d(256, 256, kernel_size=(3, 3), stride=(2, 2), padding=(1, 1), bias=False)\n",
              "          (bn2): FrozenBatchNorm2d(256, eps=0.0)\n",
              "          (conv3): Conv2d(256, 1024, kernel_size=(1, 1), stride=(1, 1), bias=False)\n",
              "          (bn3): FrozenBatchNorm2d(1024, eps=0.0)\n",
              "          (relu): ReLU(inplace=True)\n",
              "          (downsample): Sequential(\n",
              "            (0): Conv2d(512, 1024, kernel_size=(1, 1), stride=(2, 2), bias=False)\n",
              "            (1): FrozenBatchNorm2d(1024, eps=0.0)\n",
              "          )\n",
              "        )\n",
              "        (1): Bottleneck(\n",
              "          (conv1): Conv2d(1024, 256, kernel_size=(1, 1), stride=(1, 1), bias=False)\n",
              "          (bn1): FrozenBatchNorm2d(256, eps=0.0)\n",
              "          (conv2): Conv2d(256, 256, kernel_size=(3, 3), stride=(1, 1), padding=(1, 1), bias=False)\n",
              "          (bn2): FrozenBatchNorm2d(256, eps=0.0)\n",
              "          (conv3): Conv2d(256, 1024, kernel_size=(1, 1), stride=(1, 1), bias=False)\n",
              "          (bn3): FrozenBatchNorm2d(1024, eps=0.0)\n",
              "          (relu): ReLU(inplace=True)\n",
              "        )\n",
              "        (2): Bottleneck(\n",
              "          (conv1): Conv2d(1024, 256, kernel_size=(1, 1), stride=(1, 1), bias=False)\n",
              "          (bn1): FrozenBatchNorm2d(256, eps=0.0)\n",
              "          (conv2): Conv2d(256, 256, kernel_size=(3, 3), stride=(1, 1), padding=(1, 1), bias=False)\n",
              "          (bn2): FrozenBatchNorm2d(256, eps=0.0)\n",
              "          (conv3): Conv2d(256, 1024, kernel_size=(1, 1), stride=(1, 1), bias=False)\n",
              "          (bn3): FrozenBatchNorm2d(1024, eps=0.0)\n",
              "          (relu): ReLU(inplace=True)\n",
              "        )\n",
              "        (3): Bottleneck(\n",
              "          (conv1): Conv2d(1024, 256, kernel_size=(1, 1), stride=(1, 1), bias=False)\n",
              "          (bn1): FrozenBatchNorm2d(256, eps=0.0)\n",
              "          (conv2): Conv2d(256, 256, kernel_size=(3, 3), stride=(1, 1), padding=(1, 1), bias=False)\n",
              "          (bn2): FrozenBatchNorm2d(256, eps=0.0)\n",
              "          (conv3): Conv2d(256, 1024, kernel_size=(1, 1), stride=(1, 1), bias=False)\n",
              "          (bn3): FrozenBatchNorm2d(1024, eps=0.0)\n",
              "          (relu): ReLU(inplace=True)\n",
              "        )\n",
              "        (4): Bottleneck(\n",
              "          (conv1): Conv2d(1024, 256, kernel_size=(1, 1), stride=(1, 1), bias=False)\n",
              "          (bn1): FrozenBatchNorm2d(256, eps=0.0)\n",
              "          (conv2): Conv2d(256, 256, kernel_size=(3, 3), stride=(1, 1), padding=(1, 1), bias=False)\n",
              "          (bn2): FrozenBatchNorm2d(256, eps=0.0)\n",
              "          (conv3): Conv2d(256, 1024, kernel_size=(1, 1), stride=(1, 1), bias=False)\n",
              "          (bn3): FrozenBatchNorm2d(1024, eps=0.0)\n",
              "          (relu): ReLU(inplace=True)\n",
              "        )\n",
              "        (5): Bottleneck(\n",
              "          (conv1): Conv2d(1024, 256, kernel_size=(1, 1), stride=(1, 1), bias=False)\n",
              "          (bn1): FrozenBatchNorm2d(256, eps=0.0)\n",
              "          (conv2): Conv2d(256, 256, kernel_size=(3, 3), stride=(1, 1), padding=(1, 1), bias=False)\n",
              "          (bn2): FrozenBatchNorm2d(256, eps=0.0)\n",
              "          (conv3): Conv2d(256, 1024, kernel_size=(1, 1), stride=(1, 1), bias=False)\n",
              "          (bn3): FrozenBatchNorm2d(1024, eps=0.0)\n",
              "          (relu): ReLU(inplace=True)\n",
              "        )\n",
              "      )\n",
              "      (layer4): Sequential(\n",
              "        (0): Bottleneck(\n",
              "          (conv1): Conv2d(1024, 512, kernel_size=(1, 1), stride=(1, 1), bias=False)\n",
              "          (bn1): FrozenBatchNorm2d(512, eps=0.0)\n",
              "          (conv2): Conv2d(512, 512, kernel_size=(3, 3), stride=(2, 2), padding=(1, 1), bias=False)\n",
              "          (bn2): FrozenBatchNorm2d(512, eps=0.0)\n",
              "          (conv3): Conv2d(512, 2048, kernel_size=(1, 1), stride=(1, 1), bias=False)\n",
              "          (bn3): FrozenBatchNorm2d(2048, eps=0.0)\n",
              "          (relu): ReLU(inplace=True)\n",
              "          (downsample): Sequential(\n",
              "            (0): Conv2d(1024, 2048, kernel_size=(1, 1), stride=(2, 2), bias=False)\n",
              "            (1): FrozenBatchNorm2d(2048, eps=0.0)\n",
              "          )\n",
              "        )\n",
              "        (1): Bottleneck(\n",
              "          (conv1): Conv2d(2048, 512, kernel_size=(1, 1), stride=(1, 1), bias=False)\n",
              "          (bn1): FrozenBatchNorm2d(512, eps=0.0)\n",
              "          (conv2): Conv2d(512, 512, kernel_size=(3, 3), stride=(1, 1), padding=(1, 1), bias=False)\n",
              "          (bn2): FrozenBatchNorm2d(512, eps=0.0)\n",
              "          (conv3): Conv2d(512, 2048, kernel_size=(1, 1), stride=(1, 1), bias=False)\n",
              "          (bn3): FrozenBatchNorm2d(2048, eps=0.0)\n",
              "          (relu): ReLU(inplace=True)\n",
              "        )\n",
              "        (2): Bottleneck(\n",
              "          (conv1): Conv2d(2048, 512, kernel_size=(1, 1), stride=(1, 1), bias=False)\n",
              "          (bn1): FrozenBatchNorm2d(512, eps=0.0)\n",
              "          (conv2): Conv2d(512, 512, kernel_size=(3, 3), stride=(1, 1), padding=(1, 1), bias=False)\n",
              "          (bn2): FrozenBatchNorm2d(512, eps=0.0)\n",
              "          (conv3): Conv2d(512, 2048, kernel_size=(1, 1), stride=(1, 1), bias=False)\n",
              "          (bn3): FrozenBatchNorm2d(2048, eps=0.0)\n",
              "          (relu): ReLU(inplace=True)\n",
              "        )\n",
              "      )\n",
              "    )\n",
              "    (fpn): FeaturePyramidNetwork(\n",
              "      (inner_blocks): ModuleList(\n",
              "        (0): Conv2dNormActivation(\n",
              "          (0): Conv2d(256, 256, kernel_size=(1, 1), stride=(1, 1))\n",
              "        )\n",
              "        (1): Conv2dNormActivation(\n",
              "          (0): Conv2d(512, 256, kernel_size=(1, 1), stride=(1, 1))\n",
              "        )\n",
              "        (2): Conv2dNormActivation(\n",
              "          (0): Conv2d(1024, 256, kernel_size=(1, 1), stride=(1, 1))\n",
              "        )\n",
              "        (3): Conv2dNormActivation(\n",
              "          (0): Conv2d(2048, 256, kernel_size=(1, 1), stride=(1, 1))\n",
              "        )\n",
              "      )\n",
              "      (layer_blocks): ModuleList(\n",
              "        (0-3): 4 x Conv2dNormActivation(\n",
              "          (0): Conv2d(256, 256, kernel_size=(3, 3), stride=(1, 1), padding=(1, 1))\n",
              "        )\n",
              "      )\n",
              "      (extra_blocks): LastLevelMaxPool()\n",
              "    )\n",
              "  )\n",
              "  (rpn): RegionProposalNetwork(\n",
              "    (anchor_generator): AnchorGenerator()\n",
              "    (head): RPNHead(\n",
              "      (conv): Sequential(\n",
              "        (0): Conv2dNormActivation(\n",
              "          (0): Conv2d(256, 256, kernel_size=(3, 3), stride=(1, 1), padding=(1, 1))\n",
              "          (1): ReLU(inplace=True)\n",
              "        )\n",
              "      )\n",
              "      (cls_logits): Conv2d(256, 3, kernel_size=(1, 1), stride=(1, 1))\n",
              "      (bbox_pred): Conv2d(256, 12, kernel_size=(1, 1), stride=(1, 1))\n",
              "    )\n",
              "  )\n",
              "  (roi_heads): RoIHeads(\n",
              "    (box_roi_pool): MultiScaleRoIAlign(featmap_names=['0', '1', '2', '3'], output_size=(7, 7), sampling_ratio=2)\n",
              "    (box_head): TwoMLPHead(\n",
              "      (fc6): Linear(in_features=12544, out_features=1024, bias=True)\n",
              "      (fc7): Linear(in_features=1024, out_features=1024, bias=True)\n",
              "    )\n",
              "    (box_predictor): FastRCNNPredictor(\n",
              "      (cls_score): Linear(in_features=1024, out_features=6, bias=True)\n",
              "      (bbox_pred): Linear(in_features=1024, out_features=24, bias=True)\n",
              "    )\n",
              "  )\n",
              ")"
            ]
          },
          "execution_count": 18,
          "metadata": {},
          "output_type": "execute_result"
        }
      ],
      "source": [
        "num_classes = 6\n",
        "model = get_object_detection_model(num_classes)\n",
        "checkpoint = torch.load(path_to_model_bonus)\n",
        "model.load_state_dict(checkpoint['model_state_dict'])\n",
        "model.to(device)\n",
        "model.eval()"
      ]
    },
    {
      "cell_type": "code",
      "execution_count": null,
      "metadata": {
        "id": "j_OQF4Nw2Tkm"
      },
      "outputs": [],
      "source": [
        "def get_transform():\n",
        "    return A.Compose([\n",
        "        ToTensorV2(p=1.0)])"
      ]
    },
    {
      "cell_type": "code",
      "execution_count": null,
      "metadata": {
        "id": "TV2s88Tf2hX2"
      },
      "outputs": [],
      "source": [
        "all_scores = []\n",
        "all_boxes = []\n",
        "all_image_names = []\n",
        "all_labels = []\n",
        "\n",
        "for image_file in os.listdir(path_to_images):\n",
        "    image_path = os.path.join(path_to_images, image_file)\n",
        "\n",
        "    img = cv.imread(image_path)\n",
        "    img_rgb = cv.cvtColor(img, cv.COLOR_BGR2RGB).astype(np.float32)\n",
        "    img_res = img_rgb / 255.0\n",
        "    image = torch.tensor(img_res).permute(2, 0, 1).unsqueeze(0).to(device)\n",
        "\n",
        "    with torch.no_grad():\n",
        "        prediction = model(image)\n",
        "\n",
        "    prediction = apply_nms(prediction[0])\n",
        "\n",
        "    boxes = prediction['boxes'].cpu().numpy()\n",
        "    scores = prediction['scores'].cpu().numpy()\n",
        "    labels = prediction['labels'].cpu().numpy()\n",
        "\n",
        "    # plot_target = {'boxes': boxes, 'labels': labels}\n",
        "    # pil_img = to_pil_image(image.squeeze(0).cpu())\n",
        "\n",
        "    for i in range(len(scores)):\n",
        "        all_scores.append(scores[i])\n",
        "        all_boxes.append(boxes[i])\n",
        "        all_labels.append(labels[i])\n",
        "        all_image_names.append(image_file)\n"
      ]
    },
    {
      "cell_type": "code",
      "execution_count": null,
      "metadata": {
        "id": "K92TYUsy2k5t"
      },
      "outputs": [],
      "source": [
        "all_boxes = np.array(all_boxes)\n",
        "all_image_names = np.array(all_image_names)\n",
        "all_scores = np.array(all_scores)"
      ]
    },
    {
      "cell_type": "code",
      "execution_count": null,
      "metadata": {
        "id": "MseYdinZ2nwb"
      },
      "outputs": [],
      "source": [
        "class_names = ['_', 'barney', 'betty', 'fred', 'wilma', 'unknown']\n",
        "index_to_class = {i: class_names[i] for i in range(len(class_names))}\n",
        "\n",
        "aux = [index_to_class[index] for index in all_labels]\n",
        "all_labels = np.array(aux)"
      ]
    },
    {
      "cell_type": "code",
      "execution_count": null,
      "metadata": {
        "id": "pOj8lbe259OS"
      },
      "outputs": [],
      "source": [
        "np.save(os.path.join(bonus_task1_path, f\"detections_all_faces.npy\"), np.array(all_boxes, dtype=object))\n",
        "np.save(os.path.join(bonus_task1_path, f\"scores_all_faces.npy\"), np.array(all_scores, dtype=object))\n",
        "np.save(os.path.join(bonus_task1_path, f\"file_names_all_faces.npy\"), np.array(all_image_names, dtype=object))"
      ]
    },
    {
      "cell_type": "code",
      "execution_count": null,
      "metadata": {
        "id": "L_UIN9Jb2npz"
      },
      "outputs": [],
      "source": [
        "for character in class_names:\n",
        "    indices = np.where(all_labels == character)[0]\n",
        "    np.save(os.path.join(bonus_task2_path, \"detections_\" + character + \".npy\"), np.array(all_boxes[indices], dtype=object))\n",
        "    np.save(os.path.join(bonus_task2_path, \"scores_\" + character + \".npy\"), np.array(all_scores[indices], dtype=object))\n",
        "    np.save(os.path.join(bonus_task2_path, \"file_names_\" + character + \".npy\"), np.array(all_image_names[indices], dtype=object))"
      ]
    },
    {
      "cell_type": "markdown",
      "metadata": {
        "id": "dPOPYygF6n87"
      },
      "source": [
        "#Functii de evaluare"
      ]
    },
    {
      "cell_type": "code",
      "execution_count": null,
      "metadata": {
        "cellView": "form",
        "id": "4-vqZ1JYwvFU"
      },
      "outputs": [],
      "source": [
        "#@title Compute average precision\n",
        "def compute_average_precision(rec, prec):\n",
        "    # functie adaptata din 2010 Pascal VOC development kit\n",
        "    m_rec = np.concatenate(([0], rec, [1]))\n",
        "    m_pre = np.concatenate(([0], prec, [0]))\n",
        "    for i in range(len(m_pre) - 1, -1, 1):\n",
        "        m_pre[i] = max(m_pre[i], m_pre[i + 1])\n",
        "    m_rec = np.array(m_rec)\n",
        "    i = np.where(m_rec[1:] != m_rec[:-1])[0] + 1\n",
        "    average_precision = np.sum((m_rec[i] - m_rec[i - 1]) * m_pre[i])\n",
        "    return average_precision"
      ]
    },
    {
      "cell_type": "code",
      "execution_count": null,
      "metadata": {
        "id": "C2M2D4l4w0W6"
      },
      "outputs": [],
      "source": [
        "#@title Eval detections\n",
        "\n",
        "def eval_detections(detections, scores, file_names, ground_truth_path):\n",
        "    ground_truth_file = np.loadtxt(ground_truth_path, dtype='str')\n",
        "    ground_truth_file_names = np.array(ground_truth_file[:, 0])\n",
        "    ground_truth_detections = np.array(ground_truth_file[:, 1:], np.int)\n",
        "\n",
        "    num_gt_detections = len(ground_truth_detections)  # numar total de adevarat pozitive\n",
        "    gt_exists_detection = np.zeros(num_gt_detections)\n",
        "    # sorteazam detectiile dupa scorul lor\n",
        "    sorted_indices = np.argsort(scores)[::-1]\n",
        "    file_names = file_names[sorted_indices]\n",
        "    scores = scores[sorted_indices]\n",
        "    detections = detections[sorted_indices]\n",
        "\n",
        "    num_detections = len(detections)\n",
        "    true_positive = np.zeros(num_detections)\n",
        "    false_positive = np.zeros(num_detections)\n",
        "    duplicated_detections = np.zeros(num_detections)\n",
        "\n",
        "    for detection_idx in range(num_detections):\n",
        "        indices_detections_on_image = np.where(ground_truth_file_names == file_names[detection_idx])[0]\n",
        "\n",
        "        gt_detections_on_image = ground_truth_detections[indices_detections_on_image]\n",
        "        bbox = detections[detection_idx]\n",
        "        max_overlap = -1\n",
        "        index_max_overlap_bbox = -1\n",
        "        for gt_idx, gt_bbox in enumerate(gt_detections_on_image):\n",
        "            overlap = intersection_over_union(bbox, gt_bbox)\n",
        "            if overlap > max_overlap:\n",
        "                max_overlap = overlap\n",
        "                index_max_overlap_bbox = indices_detections_on_image[gt_idx]\n",
        "\n",
        "        # clasifica o detectie ca fiind adevarat pozitiva / fals pozitiva\n",
        "        if max_overlap >= 0.3:\n",
        "            if gt_exists_detection[index_max_overlap_bbox] == 0:\n",
        "                true_positive[detection_idx] = 1\n",
        "                gt_exists_detection[index_max_overlap_bbox] = 1\n",
        "            else:\n",
        "                false_positive[detection_idx] = 1\n",
        "                duplicated_detections[detection_idx] = 1\n",
        "        else:\n",
        "            false_positive[detection_idx] = 1\n",
        "\n",
        "    cum_false_positive = np.cumsum(false_positive)\n",
        "    cum_true_positive = np.cumsum(true_positive)\n",
        "\n",
        "    rec = cum_true_positive / num_gt_detections\n",
        "    prec = cum_true_positive / (cum_true_positive + cum_false_positive)\n",
        "    average_precision = compute_average_precision(rec, prec)\n",
        "    plt.plot(rec, prec, '-')\n",
        "    plt.xlabel('Recall')\n",
        "    plt.ylabel('Precision')\n",
        "    plt.title('All faces: average precision %.3f' % average_precision)\n",
        "    plt.savefig(os.path.join(dir_save_files, 'precizie_medie_all_faces.png'))\n",
        "    plt.show()"
      ]
    },
    {
      "cell_type": "code",
      "execution_count": null,
      "metadata": {
        "id": "wDYEfhq3w3ye"
      },
      "outputs": [],
      "source": [
        "#@title Eval detections character\n",
        "def eval_detections_character(detections, scores, file_names,ground_truth_path,character):\n",
        "    ground_truth_file = np.loadtxt(ground_truth_path, dtype='str')\n",
        "    ground_truth_file_names = np.array(ground_truth_file[:, 0])\n",
        "    ground_truth_detections = np.array(ground_truth_file[:, 1:], np.int)\n",
        "\n",
        "    num_gt_detections = len(ground_truth_detections)  # numar total de adevarat pozitive\n",
        "    gt_exists_detection = np.zeros(num_gt_detections)\n",
        "    # sorteazam detectiile dupa scorul lor\n",
        "    sorted_indices = np.argsort(scores)[::-1]\n",
        "    file_names = file_names[sorted_indices]\n",
        "    scores = scores[sorted_indices]\n",
        "    detections = detections[sorted_indices]\n",
        "\n",
        "    num_detections = len(detections)\n",
        "    true_positive = np.zeros(num_detections)\n",
        "    false_positive = np.zeros(num_detections)\n",
        "    duplicated_detections = np.zeros(num_detections)\n",
        "\n",
        "    for detection_idx in range(num_detections):\n",
        "        indices_detections_on_image = np.where(ground_truth_file_names == file_names[detection_idx])[0]\n",
        "\n",
        "        gt_detections_on_image = ground_truth_detections[indices_detections_on_image]\n",
        "        bbox = detections[detection_idx]\n",
        "        max_overlap = -1\n",
        "        index_max_overlap_bbox = -1\n",
        "        for gt_idx, gt_bbox in enumerate(gt_detections_on_image):\n",
        "            overlap = intersection_over_union(bbox, gt_bbox)\n",
        "            if overlap > max_overlap:\n",
        "                max_overlap = overlap\n",
        "                index_max_overlap_bbox = indices_detections_on_image[gt_idx]\n",
        "\n",
        "        # clasifica o detectie ca fiind adevarat pozitiva / fals pozitiva\n",
        "        if max_overlap >= 0.3:\n",
        "            if gt_exists_detection[index_max_overlap_bbox] == 0:\n",
        "                true_positive[detection_idx] = 1\n",
        "                gt_exists_detection[index_max_overlap_bbox] = 1\n",
        "            else:\n",
        "                false_positive[detection_idx] = 1\n",
        "                duplicated_detections[detection_idx] = 1\n",
        "        else:\n",
        "            false_positive[detection_idx] = 1\n",
        "\n",
        "    cum_false_positive = np.cumsum(false_positive)\n",
        "    cum_true_positive = np.cumsum(true_positive)\n",
        "\n",
        "    rec = cum_true_positive / num_gt_detections\n",
        "    prec = cum_true_positive / (cum_true_positive + cum_false_positive)\n",
        "    average_precision = compute_average_precision(rec, prec)\n",
        "    plt.plot(rec, prec, '-')\n",
        "    plt.xlabel('Recall')\n",
        "    plt.ylabel('Precision')\n",
        "    plt.title(character + ' faces: average precision %.3f' % average_precision)\n",
        "    plt.savefig(os.path.join(dir_save_files, 'precizie_medie_' + character + '.png'))\n",
        "    plt.show()"
      ]
    },
    {
      "cell_type": "code",
      "execution_count": null,
      "metadata": {
        "id": "nKg7ZlF6xrma"
      },
      "outputs": [],
      "source": [
        "#@title Evaluate Results Task1\n",
        "def evaluate_results_task1(solution_path,ground_truth_path,verbose = 0):\n",
        "\n",
        "\t#incarca detectiile + scorurile + numele de imagini\n",
        "\tdetections = np.load(solution_path + \"detections_all_faces.npy\",allow_pickle=True,fix_imports=True,encoding='latin1')\n",
        "\tprint(detections.shape)\n",
        "\n",
        "\tscores = np.load(solution_path + \"scores_all_faces.npy\",allow_pickle=True,fix_imports=True,encoding='latin1')\n",
        "\tprint(scores.shape)\n",
        "\n",
        "\tfile_names = np.load(solution_path + \"file_names_all_faces.npy\",allow_pickle=True,fix_imports=True,encoding='latin1')\n",
        "\tprint(file_names.shape)\n",
        "\n",
        "\teval_detections(detections, scores, file_names, ground_truth_path)\n"
      ]
    },
    {
      "cell_type": "code",
      "execution_count": null,
      "metadata": {
        "id": "I6-VUTZvxE61"
      },
      "outputs": [],
      "source": [
        "#@title Evaluate Results Task 2\n",
        "def evaluate_results_task2(solution_path, ground_truth_path, character, verbose = 0):\n",
        "\n",
        "\t#incarca detectiile + scorurile + numele de imagini\n",
        "\tdetections = np.load(solution_path + \"detections_\" + character + \".npy\",allow_pickle=True,fix_imports=True,encoding='latin1')\n",
        "\tprint(detections.shape)\n",
        "\n",
        "\tscores = np.load(solution_path + \"scores_\"+ character + \".npy\",allow_pickle=True,fix_imports=True,encoding='latin1')\n",
        "\tprint(scores.shape)\n",
        "\n",
        "\tfile_names = np.load(solution_path + \"file_names_\"+ character + \".npy\",allow_pickle=True,fix_imports=True,encoding='latin1')\n",
        "\tprint(file_names.shape)\n",
        "\n",
        "\teval_detections_character(detections, scores, file_names, ground_truth_path, character)"
      ]
    },
    {
      "cell_type": "markdown",
      "metadata": {
        "id": "cf_EdB8A_K99"
      },
      "source": [
        "# Evaluarea task-urilor 1 si 2"
      ]
    },
    {
      "cell_type": "code",
      "execution_count": null,
      "metadata": {
        "colab": {
          "base_uri": "https://localhost:8080/"
        },
        "id": "U2jpP8R0xmK8",
        "outputId": "ac4d5d01-1d84-4ce1-af5e-e347c3df5ce9"
      },
      "outputs": [
        {
          "name": "stdout",
          "output_type": "stream",
          "text": [
            "(409, 4)\n",
            "(409,)\n",
            "(409,)\n"
          ]
        },
        {
          "data": {
            "image/png": "[encoded data removed]",
            "text/plain": [
              "<Figure size 640x480 with 1 Axes>"
            ]
          },
          "metadata": {},
          "output_type": "display_data"
        }
      ],
      "source": [
        "solution_path = solution_path_root + \"task1/\"\n",
        "ground_truth_path = ground_truth_path_root + \"task1_gt_validare.txt\"\n",
        "verbose = True\n",
        "\n",
        "evaluate_results_task1(solution_path, ground_truth_path, verbose)"
      ]
    },
    {
      "cell_type": "code",
      "execution_count": null,
      "metadata": {
        "colab": {
          "base_uri": "https://localhost:8080/"
        },
        "id": "25_9Hf4w7G-w",
        "outputId": "9dca5b85-8e70-4e0c-de36-a6a45a528831"
      },
      "outputs": [
        {
          "name": "stdout",
          "output_type": "stream",
          "text": [
            "(101, 4)\n",
            "(101,)\n",
            "(101,)\n"
          ]
        },
        {
          "data": {
            "image/png": "[encoded data removed]",
            "text/plain": [
              "<Figure size 640x480 with 1 Axes>"
            ]
          },
          "metadata": {},
          "output_type": "display_data"
        },
        {
          "name": "stdout",
          "output_type": "stream",
          "text": [
            "(71, 4)\n",
            "(71,)\n",
            "(71,)\n"
          ]
        },
        {
          "data": {
            "image/png": "[encoded data removed]",
            "text/plain": [
              "<Figure size 640x480 with 1 Axes>"
            ]
          },
          "metadata": {},
          "output_type": "display_data"
        },
        {
          "name": "stdout",
          "output_type": "stream",
          "text": [
            "(50, 4)\n",
            "(50,)\n",
            "(50,)\n"
          ]
        },
        {
          "data": {
            "image/png": "[encoded data removed]",
            "text/plain": [
              "<Figure size 640x480 with 1 Axes>"
            ]
          },
          "metadata": {},
          "output_type": "display_data"
        },
        {
          "name": "stdout",
          "output_type": "stream",
          "text": [
            "(73, 4)\n",
            "(73,)\n",
            "(73,)\n"
          ]
        },
        {
          "data": {
            "image/png": "[encoded data removed]",
            "text/plain": [
              "<Figure size 640x480 with 1 Axes>"
            ]
          },
          "metadata": {},
          "output_type": "display_data"
        }
      ],
      "source": [
        "solution_path = solution_path_root + \"task2/\"\n",
        "\n",
        "ground_truth_path = ground_truth_path_root + \"task2_fred_gt_validare.txt\"\n",
        "evaluate_results_task2(solution_path, ground_truth_path, \"fred\", verbose)\n",
        "\n",
        "ground_truth_path = ground_truth_path_root + \"task2_barney_gt_validare.txt\"\n",
        "evaluate_results_task2(solution_path, ground_truth_path, \"barney\", verbose)\n",
        "\n",
        "ground_truth_path = ground_truth_path_root + \"task2_betty_gt_validare.txt\"\n",
        "evaluate_results_task2(solution_path, ground_truth_path, \"betty\", verbose)\n",
        "\n",
        "ground_truth_path = ground_truth_path_root + \"task2_wilma_gt_validare.txt\"\n",
        "evaluate_results_task2(solution_path, ground_truth_path, \"wilma\", verbose)\n"
      ]
    },
    {
      "cell_type": "markdown",
      "metadata": {
        "id": "Tz5UoV7f_ODt"
      },
      "source": [
        "#Evaluarea task-ului bonus"
      ]
    },
    {
      "cell_type": "code",
      "execution_count": null,
      "metadata": {
        "colab": {
          "base_uri": "https://localhost:8080/"
        },
        "id": "odGPVwga_RVg",
        "outputId": "7510176e-059a-44c2-ceb6-baec99fc22e5"
      },
      "outputs": [
        {
          "name": "stdout",
          "output_type": "stream",
          "text": [
            "(341, 4)\n",
            "(341,)\n",
            "(341,)\n"
          ]
        },
        {
          "data": {
            "image/png": "[encoded data removed]",
            "text/plain": [
              "<Figure size 640x480 with 1 Axes>"
            ]
          },
          "metadata": {},
          "output_type": "display_data"
        }
      ],
      "source": [
        "solution_path = solution_path_root + \"bonus/task1/\"\n",
        "ground_truth_path = ground_truth_path_root + \"task1_gt_validare.txt\"\n",
        "verbose = True\n",
        "\n",
        "evaluate_results_task1(solution_path, ground_truth_path, verbose)"
      ]
    },
    {
      "cell_type": "code",
      "execution_count": null,
      "metadata": {
        "colab": {
          "base_uri": "https://localhost:8080/"
        },
        "id": "QBQiPnO_ApTk",
        "outputId": "55766f3f-a32d-47da-87a5-bd7144fe356f"
      },
      "outputs": [
        {
          "name": "stdout",
          "output_type": "stream",
          "text": [
            "(94, 4)\n",
            "(94,)\n",
            "(94,)\n"
          ]
        },
        {
          "data": {
            "image/png": "[encoded data removed]",
            "text/plain": [
              "<Figure size 640x480 with 1 Axes>"
            ]
          },
          "metadata": {},
          "output_type": "display_data"
        },
        {
          "name": "stdout",
          "output_type": "stream",
          "text": [
            "(100, 4)\n",
            "(100,)\n",
            "(100,)\n"
          ]
        },
        {
          "data": {
            "image/png": "[encoded data removed]",
            "text/plain": [
              "<Figure size 640x480 with 1 Axes>"
            ]
          },
          "metadata": {},
          "output_type": "display_data"
        },
        {
          "name": "stdout",
          "output_type": "stream",
          "text": [
            "(56, 4)\n",
            "(56,)\n",
            "(56,)\n"
          ]
        },
        {
          "data": {
            "image/png": "[encoded data removed]",
            "text/plain": [
              "<Figure size 640x480 with 1 Axes>"
            ]
          },
          "metadata": {},
          "output_type": "display_data"
        },
        {
          "name": "stdout",
          "output_type": "stream",
          "text": [
            "(62, 4)\n",
            "(62,)\n",
            "(62,)\n"
          ]
        },
        {
          "data": {
            "image/png": "[encoded data removed]",
            "text/plain": [
              "<Figure size 640x480 with 1 Axes>"
            ]
          },
          "metadata": {},
          "output_type": "display_data"
        }
      ],
      "source": [
        "solution_path = solution_path_root + \"bonus/task2/\"\n",
        "\n",
        "ground_truth_path = ground_truth_path_root + \"task2_fred_gt_validare.txt\"\n",
        "evaluate_results_task2(solution_path, ground_truth_path, \"fred\", verbose)\n",
        "\n",
        "ground_truth_path = ground_truth_path_root + \"task2_barney_gt_validare.txt\"\n",
        "evaluate_results_task2(solution_path, ground_truth_path, \"barney\", verbose)\n",
        "\n",
        "ground_truth_path = ground_truth_path_root + \"task2_betty_gt_validare.txt\"\n",
        "evaluate_results_task2(solution_path, ground_truth_path, \"betty\", verbose)\n",
        "\n",
        "ground_truth_path = ground_truth_path_root + \"task2_wilma_gt_validare.txt\"\n",
        "evaluate_results_task2(solution_path, ground_truth_path, \"wilma\", verbose)\n"
      ]
    }
  ],
  "metadata": {
    "accelerator": "GPU",
    "colab": {
      "gpuType": "T4",
      "provenance": []
    },
    "kernelspec": {
      "display_name": "Python 3",
      "name": "python3"
    },
    "language_info": {
      "name": "python"
    }
  },
  "nbformat": 4,
  "nbformat_minor": 0
}
